{
 "cells": [
  {
   "cell_type": "code",
   "execution_count": 140,
   "id": "4c4bc82e",
   "metadata": {},
   "outputs": [
    {
     "name": "stdout",
     "output_type": "stream",
     "text": [
      "The autoreload extension is already loaded. To reload it, use:\n",
      "  %reload_ext autoreload\n"
     ]
    }
   ],
   "source": [
    "import numpy as np\n",
    "import copy\n",
    "import matplotlib.pyplot as plt\n",
    "import h5py\n",
    "import scipy\n",
    "from PIL import Image\n",
    "from scipy import ndimage\n",
    "from lr_utils import load_dataset\n",
    "\n",
    "%matplotlib inline\n",
    "%load_ext autoreload\n",
    "%autoreload 2"
   ]
  },
  {
   "cell_type": "code",
   "execution_count": 57,
   "id": "b09ae728",
   "metadata": {},
   "outputs": [],
   "source": [
    "# Load the data\n",
    "train_set_x_orig, train_set_y, test_set_x_orig, test_set_y, classes = load_dataset()"
   ]
  },
  {
   "cell_type": "code",
   "execution_count": 86,
   "id": "54d7ed5d",
   "metadata": {},
   "outputs": [],
   "source": [
    "# Flatten images into single vectors\n",
    "train_set_x_flatten = train_set_x_orig.reshape(train_set_x_orig.shape[0], -1).T\n",
    "test_set_x_flatten = test_set_x_orig.reshape(test_set_x_orig.shape[0], -1).T"
   ]
  },
  {
   "cell_type": "code",
   "execution_count": 87,
   "id": "9157ed79",
   "metadata": {},
   "outputs": [],
   "source": [
    "# Standardize dataset by dividing every row by 255\n",
    "train_set_x = train_set_x_flatten / 255.\n",
    "test_set_x = test_set_x_flatten / 255."
   ]
  },
  {
   "cell_type": "code",
   "execution_count": 90,
   "id": "ee538921",
   "metadata": {},
   "outputs": [],
   "source": [
    "# Build sigmoid helper function\n",
    "\n",
    "def sigmoid(x):\n",
    "    s = 1 / (1 + np.exp(-x))\n",
    "    return s"
   ]
  },
  {
   "cell_type": "code",
   "execution_count": 97,
   "id": "32572739",
   "metadata": {},
   "outputs": [],
   "source": [
    "# Initialize w as a vector of zeros\n",
    "def initialize_zero(size):\n",
    "    w = np.zeros(size).reshape(size, 1)\n",
    "    b = 0.0\n",
    "    return w, b"
   ]
  },
  {
   "cell_type": "code",
   "execution_count": 102,
   "id": "c945ce26",
   "metadata": {},
   "outputs": [],
   "source": [
    "# compute cost function and gradient\n",
    "def propagate(w, b, x, y):\n",
    "    m = x.shape[1]\n",
    "    \n",
    "    # forward propagation\n",
    "    A = sigmoid(np.dot(w.T, x) + b)\n",
    "    cost = - (1/m) * np.sum(y * np.log(A) + (1-y) * np.log(1-A))\n",
    "    \n",
    "    # backward propagation\n",
    "    dw = (1/m) * np.dot(x, (A-y).T)\n",
    "    db = (1/m) * np.sum(A - y)\n",
    "    \n",
    "    cost = np.squeeze(np.array(cost))\n",
    "    \n",
    "    gradients = {\"dw\": dw,\n",
    "                \"db\": db}\n",
    "    \n",
    "    return gradients, cost"
   ]
  },
  {
   "cell_type": "code",
   "execution_count": 111,
   "id": "a5a84dd4",
   "metadata": {},
   "outputs": [],
   "source": [
    "# optimization function (minimize cost function)\n",
    "def optimize(w, b, x, y, iterations=100, learning_rate=0.009, print_cost = False):\n",
    "    w = copy.deepcopy(w)\n",
    "    b = copy.deepcopy(b)\n",
    "    costs = []\n",
    "    \n",
    "    for i in range(iterations):\n",
    "        gradients, cost = propagate(w, b, x, y)\n",
    "        \n",
    "        # use gradients to find derivatives\n",
    "        dw = gradients[\"dw\"]\n",
    "        db = gradients[\"db\"]\n",
    "\n",
    "        # update parameters\n",
    "        w = w - learning_rate * dw\n",
    "        b = b - learning_rate * db\n",
    "        \n",
    "        # keep track of costs\n",
    "        if i % 100 == 0:\n",
    "            costs.append(cost)\n",
    "            \n",
    "            # after 100 iterations, print\n",
    "            if print_cost:\n",
    "                print (\"Cost after iteration %i: %f\" %(i, cost))\n",
    "    \n",
    "    parameters = {\"w\": w,\n",
    "                 \"b\": b}\n",
    "    gradients = {\"dw\": dw,\n",
    "                \"db\": db}\n",
    "    return parameters, gradients, costs"
   ]
  },
  {
   "cell_type": "code",
   "execution_count": 114,
   "id": "3de2ab5e",
   "metadata": {},
   "outputs": [],
   "source": [
    "def predict(w, b, x):\n",
    "    m = x.shape[1]\n",
    "    prediction = np.zeros((1,m))\n",
    "    w = w.reshape(x.shape[0], 1)\n",
    "    \n",
    "    # A predicts cat vs non-cat\n",
    "    A = sigmoid(np.dot(w.T, x) + b)\n",
    "    \n",
    "    for i in range(A.shape[1]):\n",
    "        if A[0, i] > 0.5:\n",
    "            prediction[0, i] = 1\n",
    "        else:\n",
    "            prediction[0, i] = 0\n",
    "    return prediction"
   ]
  },
  {
   "cell_type": "code",
   "execution_count": 116,
   "id": "e7e980d8",
   "metadata": {},
   "outputs": [],
   "source": [
    "# merge functions into a complete model\n",
    "def model (X_train, Y_train, X_test, Y_test, iterations=2000, learning_rate=0.5, print_cost=False):\n",
    "    # initialize params with zeros\n",
    "    w, b = initialize_zero(X_train.shape[0])\n",
    "    \n",
    "    # gradient descent\n",
    "    parameters, gradient, costs = optimize(w, b, X_train, Y_train, iterations, learning_rate, print_cost)\n",
    "    \n",
    "    # use dictionary to find parameters\n",
    "    w = parameters[\"w\"]\n",
    "    b = parameters[\"b\"]\n",
    "    \n",
    "    # predict the test and training datasets\n",
    "    Y_prediction_test = predict(w, b, X_test)\n",
    "    Y_prediction_train = predict(w, b, X_train)\n",
    "    \n",
    "    if print_cost:\n",
    "        print(\"train accuracy: {} %\".format(100 - np.mean(np.abs(Y_prediction_train - Y_train)) * 100))\n",
    "        print(\"test accuracy: {} %\".format(100 - np.mean(np.abs(Y_prediction_test - Y_test)) * 100))\n",
    "    \n",
    "    result = {\"costs\": costs,\n",
    "         \"Y_prediction_test\": Y_prediction_test, \n",
    "         \"Y_prediction_train\" : Y_prediction_train, \n",
    "         \"w\" : w, \n",
    "         \"b\" : b,\n",
    "         \"learning_rate\" : learning_rate,\n",
    "         \"iterations\": iterations}\n",
    "    return result"
   ]
  },
  {
   "cell_type": "code",
   "execution_count": 144,
   "id": "a0bb8a54",
   "metadata": {},
   "outputs": [
    {
     "name": "stdout",
     "output_type": "stream",
     "text": [
      "Cost after iteration 0: 0.693147\n",
      "Cost after iteration 100: 0.584508\n",
      "Cost after iteration 200: 0.466949\n",
      "Cost after iteration 300: 0.376007\n",
      "Cost after iteration 400: 0.331463\n",
      "Cost after iteration 500: 0.303273\n",
      "Cost after iteration 600: 0.279880\n",
      "Cost after iteration 700: 0.260042\n",
      "Cost after iteration 800: 0.242941\n",
      "Cost after iteration 900: 0.228004\n",
      "Cost after iteration 1000: 0.214820\n",
      "Cost after iteration 1100: 0.203078\n",
      "Cost after iteration 1200: 0.192544\n",
      "Cost after iteration 1300: 0.183033\n",
      "Cost after iteration 1400: 0.174399\n",
      "Cost after iteration 1500: 0.166521\n",
      "Cost after iteration 1600: 0.159305\n",
      "Cost after iteration 1700: 0.152667\n",
      "Cost after iteration 1800: 0.146542\n",
      "Cost after iteration 1900: 0.140872\n",
      "train accuracy: 99.04306220095694 %\n",
      "test accuracy: 70.0 %\n"
     ]
    }
   ],
   "source": [
    "# train model\n",
    "logistic_regression_model = model(train_set_x, train_set_y, test_set_x, test_set_y, iterations=2000, learning_rate=0.005, print_cost=True)"
   ]
  },
  {
   "cell_type": "code",
   "execution_count": 173,
   "id": "21eac8ab",
   "metadata": {},
   "outputs": [
    {
     "name": "stdout",
     "output_type": "stream",
     "text": [
      "Prediction is a \"cat\" picture.\n"
     ]
    },
    {
     "data": {
      "image/png": "[encoded data removed]",
      "text/plain": [
       "<Figure size 432x288 with 1 Axes>"
      ]
     },
     "metadata": {
      "needs_background": "light"
     },
     "output_type": "display_data"
    }
   ],
   "source": [
    "# Check predictions from test set\n",
    "index = 25\n",
    "plt.imshow(test_set_x[:, index].reshape((num_px, num_px, 3)))\n",
    "print (\"Prediction is a \\\"\" + classes[int(logistic_regression_model['Y_prediction_test'][0,index])].decode(\"utf-8\") +  \"\\\" picture.\")"
   ]
  },
  {
   "cell_type": "code",
   "execution_count": 151,
   "id": "5bad46c2",
   "metadata": {},
   "outputs": [
    {
     "name": "stdout",
     "output_type": "stream",
     "text": [
      "Prediction is a \"cat\" picture.\n"
     ]
    },
    {
     "data": {
      "image/png": "[encoded data removed]",
      "text/plain": [
       "<Figure size 432x288 with 1 Axes>"
      ]
     },
     "metadata": {
      "needs_background": "light"
     },
     "output_type": "display_data"
    }
   ],
   "source": [
    "# Test your own image\n",
    "my_image = \"cat4.jpeg\"   \n",
    "\n",
    "# preprocess the image\n",
    "location = \"Images/\" + my_image\n",
    "image = np.array(Image.open(location).resize((num_px, num_px)))\n",
    "plt.imshow(image)\n",
    "image = image / 255.\n",
    "image = image.reshape((1, num_px * num_px * 3)).T\n",
    "predicted_image = predict(logistic_regression_model[\"w\"], logistic_regression_model[\"b\"], image)\n",
    "\n",
    "print(\"Prediction is a \\\"\" + classes[int(np.squeeze(predicted_image)),].decode(\"utf-8\") +  \"\\\" picture.\")"
   ]
  },
  {
   "cell_type": "code",
   "execution_count": null,
   "id": "419abc18",
   "metadata": {},
   "outputs": [],
   "source": []
  }
 ],
 "metadata": {
  "kernelspec": {
   "display_name": "Python 3",
   "language": "python",
   "name": "python3"
  },
  "language_info": {
   "codemirror_mode": {
    "name": "ipython",
    "version": 3
   },
   "file_extension": ".py",
   "mimetype": "text/x-python",
   "name": "python",
   "nbconvert_exporter": "python",
   "pygments_lexer": "ipython3",
   "version": "3.8.8"
  }
 },
 "nbformat": 4,
 "nbformat_minor": 5
}
